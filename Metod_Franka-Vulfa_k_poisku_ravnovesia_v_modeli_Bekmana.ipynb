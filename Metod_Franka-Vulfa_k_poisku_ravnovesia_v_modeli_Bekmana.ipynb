{
 "cells": [
  {
   "cell_type": "markdown",
   "metadata": {},
   "source": [
    "# Метод Франка-Вульфа к поиску равновесия в модели Бэкмана"
   ]
  },
  {
   "cell_type": "markdown",
   "metadata": {},
   "source": [
    "## Импорт библиотек"
   ]
  },
  {
   "cell_type": "code",
   "execution_count": 12,
   "metadata": {
    "collapsed": true
   },
   "outputs": [],
   "source": [
    "import numpy as np\n",
    "import codecs\n",
    "import re"
   ]
  },
  {
   "cell_type": "markdown",
   "metadata": {},
   "source": [
    "## Чтение данных"
   ]
  },
  {
   "cell_type": "code",
   "execution_count": 13,
   "metadata": {
    "collapsed": false
   },
   "outputs": [],
   "source": [
    "data_path = '../data/SiouxFalls_trips.txt'\n",
    "\n",
    "massiv = np.zeros((24,24))\n",
    "with codecs.open(data_path, 'r', 'utf-8') as fin:\n",
    "    for line_idx, line in enumerate(fin):\n",
    "        row = line.strip('\\n').split(' ')\n",
    "        if len(row) == 3:\n",
    "            i = int(row[1])-1\n",
    "            j = 0\n",
    "        else:\n",
    "            for x in row:\n",
    "                t = re.findall(r'(\\w+.0);', x)\n",
    "                if len(t) != 0:\n",
    "                    massiv[i][j] = float(t[0]) \n",
    "                    j += 1\n",
    "massiv = massiv.tolist()\n",
    "\n",
    "\n",
    "data_path2 = '../data/SiouxFalls_net.txt'\n",
    "\n",
    "init = []\n",
    "term = []\n",
    "A = []\n",
    "C = []\n",
    "\n",
    "with codecs.open(data_path2, 'r', 'utf-8') as fin:\n",
    "    for line_idx, line in enumerate(fin):\n",
    "        if line_idx == 0:\n",
    "            continue\n",
    "        row = line.strip('\\n').split('\\t')\n",
    "\n",
    "        init.append(int(row[1])-1)\n",
    "        term.append(int(row[2])-1)\n",
    "        A.append(int(row[5]))\n",
    "        if int(row[7]) == 0:\n",
    "            C.append(0)\n",
    "        else:\n",
    "            C.append(int(row[5]) * float(row[6]) / (float(row[3]) ** int(row[7])))"
   ]
  },
  {
   "cell_type": "markdown",
   "metadata": {},
   "source": [
    "##  Начальные данные"
   ]
  },
  {
   "cell_type": "code",
   "execution_count": 14,
   "metadata": {
    "collapsed": true
   },
   "outputs": [],
   "source": [
    "nodes = 24\n",
    "Links = 76\n",
    "\n",
    "t = [0]*Links\n",
    "f = [0]*Links\n",
    "\n",
    "epsilon = 0\n",
    "cr_min = 10**10"
   ]
  },
  {
   "cell_type": "markdown",
   "metadata": {},
   "source": [
    "## Метод Франка-Вульфа"
   ]
  },
  {
   "cell_type": "markdown",
   "metadata": {},
   "source": [
    "В качестве критерия останова используем: $\\min\\limits_{k}(\\nabla \\Psi(f^k),f^k-y^k) \\leq \\epsilon$"
   ]
  },
  {
   "cell_type": "code",
   "execution_count": 15,
   "metadata": {
    "collapsed": false
   },
   "outputs": [],
   "source": [
    "#Номер итерации \n",
    "k = 0\n",
    "#Проверяем критерий останова \n",
    "while cr_min > epsilon:\n",
    "\n",
    "    #Массив для хранения текущего решения\n",
    "    y = [0]*Links\n",
    "\n",
    "    #Удельные затраты на проезд по дуге e\n",
    "    for e in range(Links):\n",
    "        t[e] = A[e] + C[e]*pow(f[e],4);\n",
    "\n",
    "    #Создаем массив весов ребер для алгоритма Дейкстры\n",
    "    w = [0]*nodes\n",
    "    for i in range(nodes):\n",
    "        w[i] = [10 ** 10]*nodes\n",
    "\n",
    "    for e in range(Links):\n",
    "        w[init[e]][term[e]] = t[e];\n",
    "\n",
    "    #Алгоритм Дейкстры (сложность O(n^2))\n",
    "    for i in range(nodes):\n",
    "        \n",
    "        INF = 10 ** 10\n",
    "        p = [-1] * nodes\n",
    "        dist = [INF] * nodes\n",
    "        dist[i] = 0\n",
    "        used = [False] * nodes\n",
    "        min_dist = 0\n",
    "        min_vertex = i\n",
    "        while min_dist < INF:\n",
    "            s = min_vertex \n",
    "            used[s] = True \n",
    "            for j in range(nodes): \n",
    "                if dist[s] + w[s][j] < dist[j]: \n",
    "                    dist[j] = dist[s] + w[s][j] \n",
    "                    p[j] = s;\n",
    "            min_dist = INF\n",
    "            for j in range(nodes):\n",
    "                if not used[j] and dist[j] < min_dist:\n",
    "                    min_dist = dist[j]\n",
    "                    min_vertex = j\n",
    "\n",
    "        # Cтроим решение y[k]\n",
    "        for j in range(nodes):\n",
    "            s = p[j]\n",
    "            ss = j\n",
    "            while (s!=-1):\n",
    "                for e in range(Links):\n",
    "                    if ((init[e] == s) and (term[e] == ss)):\n",
    "                        y[e] = y[e] + massiv[i][j]\n",
    "                ss = p[ss]\n",
    "                s = p[s]\n",
    "\n",
    "\n",
    "\n",
    "    #Вычисляем параметры для критерия останова\n",
    "    if k >= 1:\n",
    "        cr = 0\n",
    "        for e in range(Links):\n",
    "            cr = cr + t[e] * (f[e] - y[e])\n",
    "\n",
    "        if cr < cr_min:\n",
    "            cr_min = cr; \n",
    "\n",
    "\n",
    "    if k > 20: \n",
    "        cr_min = cr_min / 1000\n",
    "    if (k == 0):\n",
    "        for e in range(Links):\n",
    "            f[e] = y[e]\n",
    "    else:\n",
    "        gamma = 2 / (k + 1)\n",
    "        for e in range(Links):\n",
    "            f[e] = (1 - gamma) * f[e] + gamma * y[e]\n",
    "\n",
    "\n",
    "    if k == 0:\n",
    "        epsilon = 0\n",
    "        for e in range(Links):\n",
    "            epsilon = epsilon + A[e] * f[e] + C[e] * (f[e] ** 5) / 5.\n",
    "        epsilon = 0.01 * epsilon\n",
    "\n",
    "    #Новый шаг\n",
    "    k = k + 1"
   ]
  },
  {
   "cell_type": "markdown",
   "metadata": {},
   "source": [
    "## Вывод результатов"
   ]
  },
  {
   "cell_type": "code",
   "execution_count": 16,
   "metadata": {
    "collapsed": false
   },
   "outputs": [
    {
     "name": "stdout",
     "output_type": "stream",
     "text": [
      "Дуга: оптимальная величина потока\n",
      "\n",
      "0 1: f = 4800\n",
      "0 2: f = 12900\n",
      "1 0: f = 4900\n",
      "1 5: f = 1600\n",
      "2 0: f = 12800\n",
      "2 3: f = 32300\n",
      "2 11: f = 22400\n",
      "3 2: f = 30800\n",
      "3 4: f = 36200\n",
      "3 10: f = 11900\n",
      "4 3: f = 34800\n",
      "4 5: f = 6000\n",
      "4 8: f = 42500\n",
      "5 1: f = 1700\n",
      "5 4: f = 5900\n",
      "5 7: f = 0\n",
      "6 7: f = 22100\n",
      "6 17: f = 19000\n",
      "7 5: f = 0\n",
      "7 6: f = 22700\n",
      "7 8: f = 23800\n",
      "7 15: f = 0\n",
      "8 4: f = 41200\n",
      "8 7: f = 24400\n",
      "8 9: f = 35500\n",
      "9 8: f = 34900\n",
      "9 10: f = 10500\n",
      "9 14: f = 53400\n",
      "9 15: f = 0\n",
      "9 16: f = 23400\n",
      "10 3: f = 11900\n",
      "10 9: f = 10400\n",
      "10 11: f = 0\n",
      "10 13: f = 0\n",
      "11 2: f = 23800\n",
      "11 10: f = 0\n",
      "11 12: f = 15600\n",
      "12 11: f = 17100\n",
      "12 23: f = 10500\n",
      "13 10: f = 0\n",
      "13 14: f = 18100\n",
      "13 22: f = 2100\n",
      "14 9: f = 52800\n",
      "14 13: f = 6400\n",
      "14 18: f = 33300\n",
      "14 21: f = 17600\n",
      "15 7: f = 0\n",
      "15 9: f = 0\n",
      "15 16: f = 0\n",
      "15 17: f = 26100\n",
      "16 9: f = 23400\n",
      "16 15: f = 0\n",
      "16 18: f = 0\n",
      "17 6: f = 18400\n",
      "17 15: f = 26100\n",
      "17 19: f = 24700\n",
      "18 14: f = 38500\n",
      "18 16: f = 0\n",
      "18 19: f = 32200\n",
      "19 17: f = 24000\n",
      "19 18: f = 37400\n",
      "19 20: f = 9200\n",
      "19 21: f = 17600\n",
      "20 19: f = 11000\n",
      "20 21: f = 0\n",
      "20 23: f = 0\n",
      "21 14: f = 0\n",
      "21 19: f = 20200\n",
      "21 20: f = 0\n",
      "21 22: f = 22300\n",
      "22 13: f = 13800\n",
      "22 21: f = 7300\n",
      "22 23: f = 15900\n",
      "23 12: f = 11900\n",
      "23 20: f = 1800\n",
      "23 22: f = 12600\n"
     ]
    }
   ],
   "source": [
    "print ('Дуга: оптимальная величина потока\\n')\n",
    "for e in range(Links):\n",
    "\tprint ('%d %d: f = %d' % (init[e], term[e], f[e]))"
   ]
  }
 ],
 "metadata": {
  "kernelspec": {
   "display_name": "Python 2",
   "language": "python",
   "name": "python2"
  },
  "language_info": {
   "codemirror_mode": {
    "name": "ipython",
    "version": 2
   },
   "file_extension": ".py",
   "mimetype": "text/x-python",
   "name": "python",
   "nbconvert_exporter": "python",
   "pygments_lexer": "ipython2",
   "version": "2.7.11"
  }
 },
 "nbformat": 4,
 "nbformat_minor": 0
}
